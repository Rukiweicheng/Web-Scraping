{
 "cells": [
  {
   "cell_type": "markdown",
   "metadata": {
    "toc": true
   },
   "source": [
    "<h1>Table of Contents<span class=\"tocSkip\"></span></h1>\n",
    "<div class=\"toc\"><ul class=\"toc-item\"><li><span><a href=\"#Parse-the-Wiki-Billboard-for-1970\" data-toc-modified-id=\"Parse-the-Wiki-Billboard-for-1970-1\"><span class=\"toc-item-num\">1&nbsp;&nbsp;</span>Parse the Wiki Billboard for 1970</a></span></li><li><span><a href=\"#Generalization:-billboard-from-1996-to-2019\" data-toc-modified-id=\"Generalization:-billboard-from-1996-to-2019-2\"><span class=\"toc-item-num\">2&nbsp;&nbsp;</span>Generalization: billboard from 1996 to 2019</a></span></li><li><span><a href=\"#Read-the-scraped-data-into-DataFrame\" data-toc-modified-id=\"Read-the-scraped-data-into-DataFrame-3\"><span class=\"toc-item-num\">3&nbsp;&nbsp;</span>Read the scraped data into DataFrame</a></span></li><li><span><a href=\"#Some-simple-queries\" data-toc-modified-id=\"Some-simple-queries-4\"><span class=\"toc-item-num\">4&nbsp;&nbsp;</span>Some simple queries</a></span><ul class=\"toc-item\"><li><span><a href=\"#The-&quot;frequent-customer&quot;\" data-toc-modified-id=\"The-&quot;frequent-customer&quot;-4.1\"><span class=\"toc-item-num\">4.1&nbsp;&nbsp;</span>The \"frequent customer\"</a></span></li></ul></li></ul></div>"
   ]
  },
  {
   "cell_type": "markdown",
   "metadata": {
    "ExecuteTime": {
     "end_time": "2020-02-16T23:31:26.055177Z",
     "start_time": "2020-02-16T23:31:26.049817Z"
    }
   },
   "source": [
    "**Author**: Weicheng Zhang\n",
    "\n",
    "**Date**: Jul 2019"
   ]
  },
  {
   "cell_type": "code",
   "execution_count": 1,
   "metadata": {
    "ExecuteTime": {
     "end_time": "2020-02-16T23:29:29.632331Z",
     "start_time": "2020-02-16T23:29:28.451436Z"
    }
   },
   "outputs": [],
   "source": [
    "import numpy as np\n",
    "import pandas as pd\n",
    "import matplotlib.pyplot as plt\n",
    "import seaborn as sns\n",
    "pd.set_option('display.width', 500)\n",
    "pd.set_option('display.max_columns', 100)\n",
    "pd.set_option('display.notebook_repr_html', True)\n",
    "sns.set_style(\"whitegrid\")\n",
    "sns.set_context(\"poster\")"
   ]
  },
  {
   "cell_type": "code",
   "execution_count": 2,
   "metadata": {
    "ExecuteTime": {
     "end_time": "2020-02-16T23:29:37.150668Z",
     "start_time": "2020-02-16T23:29:36.881268Z"
    }
   },
   "outputs": [],
   "source": [
    "from bs4 import BeautifulSoup\n",
    "import requests"
   ]
  },
  {
   "cell_type": "markdown",
   "metadata": {},
   "source": [
    "### Parse the Wiki Billboard for 1970"
   ]
  },
  {
   "cell_type": "code",
   "execution_count": 3,
   "metadata": {
    "ExecuteTime": {
     "end_time": "2020-02-16T23:29:40.965902Z",
     "start_time": "2020-02-16T23:29:40.472603Z"
    }
   },
   "outputs": [],
   "source": [
    "# Access the webpage and ontent using requests\n",
    "t1970=requests.get(\"http://en.wikipedia.org/wiki/Billboard_Year-End_Hot_100_singles_of_1970\")\n",
    "# Creat a BeautifulSoul object for pasing\n",
    "soup = BeautifulSoup(t1970.text, \"html.parser\")\n",
    "# Locate the table in the HTML with a class of wikitable;\n",
    "# Get the 'tr' which is esentially a row of the table containing the i\n",
    "rows = soup.find(\"table\", attrs={\"class\": \"wikitable\"}).find_all(\"tr\")[1:]"
   ]
  },
  {
   "cell_type": "code",
   "execution_count": 4,
   "metadata": {
    "ExecuteTime": {
     "end_time": "2020-02-16T23:29:42.950622Z",
     "start_time": "2020-02-16T23:29:42.942652Z"
    }
   },
   "outputs": [
    {
     "data": {
      "text/plain": [
       "<tr>\n",
       "<td>1</td>\n",
       "<td>\"<a class=\"mw-redirect\" href=\"/wiki/Bridge_Over_Troubled_Water_(song)\" title=\"Bridge Over Troubled Water (song)\">Bridge Over Troubled Water</a>\"</td>\n",
       "<td><a href=\"/wiki/Simon_%26_Garfunkel\" title=\"Simon &amp; Garfunkel\">Simon &amp; Garfunkel</a>\n",
       "</td></tr>"
      ]
     },
     "execution_count": 4,
     "metadata": {},
     "output_type": "execute_result"
    }
   ],
   "source": [
    "rows[0]"
   ]
  },
  {
   "cell_type": "code",
   "execution_count": 5,
   "metadata": {
    "ExecuteTime": {
     "end_time": "2020-02-16T23:29:44.793330Z",
     "start_time": "2020-02-16T23:29:44.789871Z"
    }
   },
   "outputs": [],
   "source": [
    "# Extract the following data\n",
    "def clean_row(r):\n",
    "    ranking = int(r[0].get_text())\n",
    "    song = r[1].get_text()\n",
    "    singer = r[2].get_text()\n",
    "    singer_url = r[2].find('a').get('href')\n",
    "    return [ranking,song,singer,singer_url]"
   ]
  },
  {
   "cell_type": "code",
   "execution_count": 6,
   "metadata": {
    "ExecuteTime": {
     "end_time": "2020-02-16T23:29:46.734143Z",
     "start_time": "2020-02-16T23:29:46.726428Z"
    }
   },
   "outputs": [],
   "source": [
    "columns = ['ranking','song','singer','singer_url']\n",
    "songs = [dict(zip(columns,clean_row(row.find_all('td')))) for row in rows]"
   ]
  },
  {
   "cell_type": "code",
   "execution_count": 7,
   "metadata": {
    "ExecuteTime": {
     "end_time": "2020-02-16T23:29:48.106436Z",
     "start_time": "2020-02-16T23:29:48.101463Z"
    }
   },
   "outputs": [
    {
     "data": {
      "text/plain": [
       "{'ranking': 1,\n",
       " 'song': '\"Bridge Over Troubled Water\"',\n",
       " 'singer': 'Simon & Garfunkel\\n',\n",
       " 'singer_url': '/wiki/Simon_%26_Garfunkel'}"
      ]
     },
     "execution_count": 7,
     "metadata": {},
     "output_type": "execute_result"
    }
   ],
   "source": [
    "songs[0]"
   ]
  },
  {
   "cell_type": "markdown",
   "metadata": {},
   "source": [
    "### Generalization: billboard from 1996 to 2019"
   ]
  },
  {
   "cell_type": "code",
   "execution_count": 8,
   "metadata": {
    "ExecuteTime": {
     "end_time": "2020-02-16T23:30:24.556225Z",
     "start_time": "2020-02-16T23:29:50.262595Z"
    }
   },
   "outputs": [],
   "source": [
    "import time\n",
    "years = range(1996,2020)\n",
    "years_billboards = {}\n",
    "for year in years:\n",
    "    year_billboard = requests.get(\"http://en.wikipedia.org/wiki/Billboard_Year-End_Hot_100_singles_of_%i\" % year)\n",
    "    years_billboards[year] = year_billboard.text\n",
    "    time.sleep(1)"
   ]
  },
  {
   "cell_type": "code",
   "execution_count": 9,
   "metadata": {
    "ExecuteTime": {
     "end_time": "2020-02-16T23:30:26.662606Z",
     "start_time": "2020-02-16T23:30:26.656662Z"
    }
   },
   "outputs": [],
   "source": [
    "\"\"\"\n",
    "The following functions aim to get a dictionary with following data:\n",
    "    ranking: ranking of the single\n",
    "    song: a list of bands/singers who made this single\n",
    "    song_url: url for the song(s)\n",
    "    singer: a list of bands or singers on this single\n",
    "    singer_url: url for the singer(s)\n",
    "    \n",
    "Notes\n",
    "-----\n",
    "1. There can be more than 1 singer for a single\n",
    "2. There can be more than 1 song for a single\n",
    "3. The urls for some songs/singers can be none\n",
    "\"\"\"\n",
    "\n",
    "def get_row(row):\n",
    "    return row.find_all('th') + row.find_all('td')\n",
    "\n",
    "def parse_td(row):\n",
    "    return list(map(list,zip(*[(a.get(\"title\").strip('\"'), a.get(\"href\")) for a in row.find_all(\"a\")]))) or [[row.get_text().strip('\"')], [None]]\n",
    "\n",
    "def parse_row(row):\n",
    "    return [int(row[0].get_text())] + parse_td(row[1]) + parse_td(row[2])\n",
    "\n",
    "columns = ['ranking','song','song_url','singer','singer_url']\n",
    "def parse_year(year,years_billboards):\n",
    "    soup = BeautifulSoup(years_billboards[year], 'html.parser')\n",
    "    rows = soup.find('table', attrs={'class':'wikitable'}).find_all('tr')[1:]\n",
    "    return [dict(zip(columns,parse_row(get_row(row)))) for row in rows]"
   ]
  },
  {
   "cell_type": "code",
   "execution_count": 10,
   "metadata": {
    "ExecuteTime": {
     "end_time": "2020-02-16T23:30:29.453661Z",
     "start_time": "2020-02-16T23:30:29.389717Z"
    },
    "scrolled": true
   },
   "outputs": [
    {
     "data": {
      "text/plain": [
       "[{'ranking': 1,\n",
       "  'song': ['Old Town Road'],\n",
       "  'song_url': ['/wiki/Old_Town_Road'],\n",
       "  'singer': ['Lil Nas X', 'Billy Ray Cyrus'],\n",
       "  'singer_url': ['/wiki/Lil_Nas_X', '/wiki/Billy_Ray_Cyrus']},\n",
       " {'ranking': 2,\n",
       "  'song': ['Sunflower (Post Malone and Swae Lee song)'],\n",
       "  'song_url': ['/wiki/Sunflower_(Post_Malone_and_Swae_Lee_song)'],\n",
       "  'singer': ['Post Malone', 'Swae Lee'],\n",
       "  'singer_url': ['/wiki/Post_Malone', '/wiki/Swae_Lee']}]"
      ]
     },
     "execution_count": 10,
     "metadata": {},
     "output_type": "execute_result"
    }
   ],
   "source": [
    "parse_year(2019,years_billboards)[:2]"
   ]
  },
  {
   "cell_type": "code",
   "execution_count": 11,
   "metadata": {
    "ExecuteTime": {
     "end_time": "2020-02-16T23:30:34.716358Z",
     "start_time": "2020-02-16T23:30:33.340791Z"
    }
   },
   "outputs": [],
   "source": [
    "year_data = {year:parse_year(year,years_billboards) for year in years}"
   ]
  },
  {
   "cell_type": "markdown",
   "metadata": {},
   "source": [
    "### Read the scraped data into DataFrame"
   ]
  },
  {
   "cell_type": "code",
   "execution_count": 55,
   "metadata": {
    "ExecuteTime": {
     "end_time": "2020-02-16T21:18:42.535922Z",
     "start_time": "2020-02-16T21:18:42.487121Z"
    }
   },
   "outputs": [],
   "source": [
    "# import json\n",
    "# file_directory = open(\"year_data.json\",\"w\")\n",
    "# json.dump(year_data,file_directory)\n",
    "# file_directory.close()\n",
    "\n",
    "# with open(\"year_data.json\", \"r\") as file_directory:\n",
    "#     year_data = json.load(file_directory)"
   ]
  },
  {
   "cell_type": "code",
   "execution_count": 12,
   "metadata": {
    "ExecuteTime": {
     "end_time": "2020-02-16T23:30:37.361309Z",
     "start_time": "2020-02-16T23:30:37.323083Z"
    }
   },
   "outputs": [],
   "source": [
    "yeardict={}\n",
    "for y in year_data.keys():\n",
    "    yearlist=year_data[y] # get list of singles for year\n",
    "    yearlist2=[]\n",
    "    for singledict in yearlist:\n",
    "        singers=singledict['singer']\n",
    "        for i, singer in enumerate(singers):\n",
    "            songs=singledict['song'] # generally one per single but maybe more\n",
    "            for j, song in enumerate(songs): # now inside each singer song combination\n",
    "                nd={}\n",
    "                nd['singer'] = singer\n",
    "                nd['singer_url'] = singledict['singer_url'][i]\n",
    "                nd['song'] = song\n",
    "                nd['song_url'] = singledict['song_url'][j]\n",
    "                nd['ranking'] = singledict['ranking']\n",
    "                yearlist2.append(nd)\n",
    "    yeardict[y]=pd.DataFrame(yearlist2) "
   ]
  },
  {
   "cell_type": "code",
   "execution_count": 13,
   "metadata": {
    "ExecuteTime": {
     "end_time": "2020-02-16T23:30:39.635072Z",
     "start_time": "2020-02-16T23:30:39.581271Z"
    }
   },
   "outputs": [
    {
     "name": "stderr",
     "output_type": "stream",
     "text": [
      "/Users/weichengzhang/anaconda3/lib/python3.6/site-packages/ipykernel_launcher.py:1: FutureWarning: \n",
      "Panel is deprecated and will be removed in a future version.\n",
      "The recommended way to represent these types of 3-dimensional data are with a MultiIndex on a DataFrame, via the Panel.to_frame() method\n",
      "Alternatively, you can use the xarray package http://xarray.pydata.org/en/stable/.\n",
      "Pandas provides a `.to_xarray()` method to help automate this conversion.\n",
      "\n",
      "  \"\"\"Entry point for launching an IPython kernel.\n"
     ]
    }
   ],
   "source": [
    "yearspanel=pd.Panel.from_dict(yeardict, orient=\"minor\") # stack dataframes into a panel\n",
    "hierframe=yearspanel.to_frame().reset_index().drop('major',axis=1) # flattening leads to a hierarchical index\n",
    "df = hierframe.rename(columns = {'minor':'year'})\n",
    "df.year = df.year.astype('int')\n",
    "df.ranking = df.ranking.astype('int')"
   ]
  },
  {
   "cell_type": "code",
   "execution_count": 14,
   "metadata": {
    "ExecuteTime": {
     "end_time": "2020-02-16T23:30:42.754012Z",
     "start_time": "2020-02-16T23:30:42.740972Z"
    },
    "scrolled": true
   },
   "outputs": [
    {
     "data": {
      "text/html": [
       "<div>\n",
       "<style scoped>\n",
       "    .dataframe tbody tr th:only-of-type {\n",
       "        vertical-align: middle;\n",
       "    }\n",
       "\n",
       "    .dataframe tbody tr th {\n",
       "        vertical-align: top;\n",
       "    }\n",
       "\n",
       "    .dataframe thead th {\n",
       "        text-align: right;\n",
       "    }\n",
       "</style>\n",
       "<table border=\"1\" class=\"dataframe\">\n",
       "  <thead>\n",
       "    <tr style=\"text-align: right;\">\n",
       "      <th></th>\n",
       "      <th>year</th>\n",
       "      <th>ranking</th>\n",
       "      <th>singer</th>\n",
       "      <th>singer_url</th>\n",
       "      <th>song</th>\n",
       "      <th>song_url</th>\n",
       "    </tr>\n",
       "  </thead>\n",
       "  <tbody>\n",
       "    <tr>\n",
       "      <th>0</th>\n",
       "      <td>1996</td>\n",
       "      <td>1</td>\n",
       "      <td>Los del Río</td>\n",
       "      <td>/wiki/Los_del_R%C3%ADo</td>\n",
       "      <td>Macarena (song)</td>\n",
       "      <td>/wiki/Macarena_(song)</td>\n",
       "    </tr>\n",
       "    <tr>\n",
       "      <th>1</th>\n",
       "      <td>1997</td>\n",
       "      <td>1</td>\n",
       "      <td>Elton John</td>\n",
       "      <td>/wiki/Elton_John</td>\n",
       "      <td>Something About the Way You Look Tonight</td>\n",
       "      <td>/wiki/Something_About_the_Way_You_Look_Tonight</td>\n",
       "    </tr>\n",
       "    <tr>\n",
       "      <th>2</th>\n",
       "      <td>1998</td>\n",
       "      <td>1</td>\n",
       "      <td>Next (group)</td>\n",
       "      <td>/wiki/Next_(group)</td>\n",
       "      <td>Too Close (Next song)</td>\n",
       "      <td>/wiki/Too_Close_(Next_song)</td>\n",
       "    </tr>\n",
       "    <tr>\n",
       "      <th>3</th>\n",
       "      <td>1999</td>\n",
       "      <td>1</td>\n",
       "      <td>Cher</td>\n",
       "      <td>/wiki/Cher</td>\n",
       "      <td>Believe (Cher song)</td>\n",
       "      <td>/wiki/Believe_(Cher_song)</td>\n",
       "    </tr>\n",
       "    <tr>\n",
       "      <th>4</th>\n",
       "      <td>2000</td>\n",
       "      <td>1</td>\n",
       "      <td>Faith Hill</td>\n",
       "      <td>/wiki/Faith_Hill</td>\n",
       "      <td>Breathe (Faith Hill song)</td>\n",
       "      <td>/wiki/Breathe_(Faith_Hill_song)</td>\n",
       "    </tr>\n",
       "  </tbody>\n",
       "</table>\n",
       "</div>"
      ],
      "text/plain": [
       "   year  ranking        singer              singer_url                                      song                                        song_url\n",
       "0  1996        1   Los del Río  /wiki/Los_del_R%C3%ADo                           Macarena (song)                           /wiki/Macarena_(song)\n",
       "1  1997        1    Elton John        /wiki/Elton_John  Something About the Way You Look Tonight  /wiki/Something_About_the_Way_You_Look_Tonight\n",
       "2  1998        1  Next (group)      /wiki/Next_(group)                     Too Close (Next song)                     /wiki/Too_Close_(Next_song)\n",
       "3  1999        1          Cher              /wiki/Cher                       Believe (Cher song)                       /wiki/Believe_(Cher_song)\n",
       "4  2000        1    Faith Hill        /wiki/Faith_Hill                 Breathe (Faith Hill song)                 /wiki/Breathe_(Faith_Hill_song)"
      ]
     },
     "execution_count": 14,
     "metadata": {},
     "output_type": "execute_result"
    }
   ],
   "source": [
    "df.head()"
   ]
  },
  {
   "cell_type": "code",
   "execution_count": 15,
   "metadata": {
    "ExecuteTime": {
     "end_time": "2020-02-16T23:30:45.251833Z",
     "start_time": "2020-02-16T23:30:45.240882Z"
    }
   },
   "outputs": [
    {
     "name": "stdout",
     "output_type": "stream",
     "text": [
      "<class 'pandas.core.frame.DataFrame'>\n",
      "RangeIndex: 3309 entries, 0 to 3308\n",
      "Data columns (total 6 columns):\n",
      "year          3309 non-null int64\n",
      "ranking       3309 non-null int64\n",
      "singer        3309 non-null object\n",
      "singer_url    3309 non-null object\n",
      "song          3309 non-null object\n",
      "song_url      3309 non-null object\n",
      "dtypes: int64(2), object(4)\n",
      "memory usage: 155.2+ KB\n"
     ]
    }
   ],
   "source": [
    "df.info()"
   ]
  },
  {
   "cell_type": "markdown",
   "metadata": {
    "ExecuteTime": {
     "end_time": "2020-02-16T22:21:41.990251Z",
     "start_time": "2020-02-16T22:21:41.987992Z"
    }
   },
   "source": [
    "### Some simple queries"
   ]
  },
  {
   "cell_type": "markdown",
   "metadata": {},
   "source": [
    "#### The \"frequent customer\"\n",
    "Frequent customer = # times a singer appears in the billboard"
   ]
  },
  {
   "cell_type": "code",
   "execution_count": 16,
   "metadata": {
    "ExecuteTime": {
     "end_time": "2020-02-16T23:30:47.805980Z",
     "start_time": "2020-02-16T23:30:47.410706Z"
    }
   },
   "outputs": [
    {
     "data": {
      "text/plain": [
       "<matplotlib.axes._subplots.AxesSubplot at 0x1175612b0>"
      ]
     },
     "execution_count": 16,
     "metadata": {},
     "output_type": "execute_result"
    },
    {
     "data": {
      "image/png": "[encoded data removed]",
      "text/plain": [
       "<Figure size 432x288 with 1 Axes>"
      ]
     },
     "metadata": {},
     "output_type": "display_data"
    }
   ],
   "source": [
    "quality_singer_distribution = df.singer.value_counts()\n",
    "quality_singer_distribution[:10][::-1].plot(kind='barh', title='Top 10 singers (1996-2019)')"
   ]
  },
  {
   "cell_type": "code",
   "execution_count": null,
   "metadata": {},
   "outputs": [],
   "source": []
  }
 ],
 "metadata": {
  "kernelspec": {
   "display_name": "Python 3",
   "language": "python",
   "name": "python3"
  },
  "language_info": {
   "codemirror_mode": {
    "name": "ipython",
    "version": 3
   },
   "file_extension": ".py",
   "mimetype": "text/x-python",
   "name": "python",
   "nbconvert_exporter": "python",
   "pygments_lexer": "ipython3",
   "version": "3.6.8"
  },
  "toc": {
   "base_numbering": 1,
   "nav_menu": {},
   "number_sections": true,
   "sideBar": true,
   "skip_h1_title": false,
   "title_cell": "Table of Contents",
   "title_sidebar": "Contents",
   "toc_cell": true,
   "toc_position": {},
   "toc_section_display": true,
   "toc_window_display": false
  },
  "varInspector": {
   "cols": {
    "lenName": 16,
    "lenType": 16,
    "lenVar": 40
   },
   "kernels_config": {
    "python": {
     "delete_cmd_postfix": "",
     "delete_cmd_prefix": "del ",
     "library": "var_list.py",
     "varRefreshCmd": "print(var_dic_list())"
    },
    "r": {
     "delete_cmd_postfix": ") ",
     "delete_cmd_prefix": "rm(",
     "library": "var_list.r",
     "varRefreshCmd": "cat(var_dic_list()) "
    }
   },
   "types_to_exclude": [
    "module",
    "function",
    "builtin_function_or_method",
    "instance",
    "_Feature"
   ],
   "window_display": false
  }
 },
 "nbformat": 4,
 "nbformat_minor": 2
}
